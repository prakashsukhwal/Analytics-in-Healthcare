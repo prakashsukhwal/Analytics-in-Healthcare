{
  "nbformat": 4,
  "nbformat_minor": 0,
  "metadata": {
    "colab": {
      "provenance": [],
      "include_colab_link": true
    },
    "kernelspec": {
      "name": "python3",
      "display_name": "Python 3"
    },
    "widgets": {
      "application/vnd.jupyter.widget-state+json": {
        "c47f00587226402ead9edd4467b8c921": {
          "model_module": "@jupyter-widgets/controls",
          "model_name": "HBoxModel",
          "model_module_version": "1.5.0",
          "state": {
            "_view_name": "HBoxView",
            "_dom_classes": [],
            "_model_name": "HBoxModel",
            "_view_module": "@jupyter-widgets/controls",
            "_model_module_version": "1.5.0",
            "_view_count": null,
            "_view_module_version": "1.5.0",
            "box_style": "",
            "layout": "IPY_MODEL_d01b8ccd0cf5422098848383c0d250d1",
            "_model_module": "@jupyter-widgets/controls",
            "children": [
              "IPY_MODEL_662285ffc91948ebb0dc3e91416905e6",
              "IPY_MODEL_2e633d13cf934a5ca6a1a38484506aee",
              "IPY_MODEL_550bc618b1fb40d7a4ec15ee6cdbcbbd"
            ]
          }
        },
        "d01b8ccd0cf5422098848383c0d250d1": {
          "model_module": "@jupyter-widgets/base",
          "model_name": "LayoutModel",
          "model_module_version": "1.2.0",
          "state": {
            "_view_name": "LayoutView",
            "grid_template_rows": null,
            "right": null,
            "justify_content": null,
            "_view_module": "@jupyter-widgets/base",
            "overflow": null,
            "_model_module_version": "1.2.0",
            "_view_count": null,
            "flex_flow": null,
            "width": null,
            "min_width": null,
            "border": null,
            "align_items": null,
            "bottom": null,
            "_model_module": "@jupyter-widgets/base",
            "top": null,
            "grid_column": null,
            "overflow_y": null,
            "overflow_x": null,
            "grid_auto_flow": null,
            "grid_area": null,
            "grid_template_columns": null,
            "flex": null,
            "_model_name": "LayoutModel",
            "justify_items": null,
            "grid_row": null,
            "max_height": null,
            "align_content": null,
            "visibility": null,
            "align_self": null,
            "height": null,
            "min_height": null,
            "padding": null,
            "grid_auto_rows": null,
            "grid_gap": null,
            "max_width": null,
            "order": null,
            "_view_module_version": "1.2.0",
            "grid_template_areas": null,
            "object_position": null,
            "object_fit": null,
            "grid_auto_columns": null,
            "margin": null,
            "display": null,
            "left": null
          }
        },
        "662285ffc91948ebb0dc3e91416905e6": {
          "model_module": "@jupyter-widgets/controls",
          "model_name": "HTMLModel",
          "model_module_version": "1.5.0",
          "state": {
            "_view_name": "HTMLView",
            "style": "IPY_MODEL_a81b6ef6519f4c5c8782c03bb1805603",
            "_dom_classes": [],
            "description": "",
            "_model_name": "HTMLModel",
            "placeholder": "​",
            "_view_module": "@jupyter-widgets/controls",
            "_model_module_version": "1.5.0",
            "value": "Downloading https://huggingface.co/stanfordnlp/CoreNLP/resolve/main/stanford-corenlp-latest.zip: 100%",
            "_view_count": null,
            "_view_module_version": "1.5.0",
            "description_tooltip": null,
            "_model_module": "@jupyter-widgets/controls",
            "layout": "IPY_MODEL_ea71e63636d643ce91853f0db5632de4"
          }
        },
        "2e633d13cf934a5ca6a1a38484506aee": {
          "model_module": "@jupyter-widgets/controls",
          "model_name": "FloatProgressModel",
          "model_module_version": "1.5.0",
          "state": {
            "_view_name": "ProgressView",
            "style": "IPY_MODEL_b4cd2a85ad2e46eba054bf258678ceeb",
            "_dom_classes": [],
            "description": "",
            "_model_name": "FloatProgressModel",
            "bar_style": "success",
            "max": 505031546,
            "_view_module": "@jupyter-widgets/controls",
            "_model_module_version": "1.5.0",
            "value": 505031546,
            "_view_count": null,
            "_view_module_version": "1.5.0",
            "orientation": "horizontal",
            "min": 0,
            "description_tooltip": null,
            "_model_module": "@jupyter-widgets/controls",
            "layout": "IPY_MODEL_c0b172b3128444e9a361a8d98e32b6b0"
          }
        },
        "550bc618b1fb40d7a4ec15ee6cdbcbbd": {
          "model_module": "@jupyter-widgets/controls",
          "model_name": "HTMLModel",
          "model_module_version": "1.5.0",
          "state": {
            "_view_name": "HTMLView",
            "style": "IPY_MODEL_71c7614098c7406e990ee87c924d3deb",
            "_dom_classes": [],
            "description": "",
            "_model_name": "HTMLModel",
            "placeholder": "​",
            "_view_module": "@jupyter-widgets/controls",
            "_model_module_version": "1.5.0",
            "value": " 505M/505M [00:05&lt;00:00, 99.2MB/s]",
            "_view_count": null,
            "_view_module_version": "1.5.0",
            "description_tooltip": null,
            "_model_module": "@jupyter-widgets/controls",
            "layout": "IPY_MODEL_cf44f7e9a1124e059c8959e3d4cbd9f3"
          }
        },
        "a81b6ef6519f4c5c8782c03bb1805603": {
          "model_module": "@jupyter-widgets/controls",
          "model_name": "DescriptionStyleModel",
          "model_module_version": "1.5.0",
          "state": {
            "_view_name": "StyleView",
            "_model_name": "DescriptionStyleModel",
            "description_width": "",
            "_view_module": "@jupyter-widgets/base",
            "_model_module_version": "1.5.0",
            "_view_count": null,
            "_view_module_version": "1.2.0",
            "_model_module": "@jupyter-widgets/controls"
          }
        },
        "ea71e63636d643ce91853f0db5632de4": {
          "model_module": "@jupyter-widgets/base",
          "model_name": "LayoutModel",
          "model_module_version": "1.2.0",
          "state": {
            "_view_name": "LayoutView",
            "grid_template_rows": null,
            "right": null,
            "justify_content": null,
            "_view_module": "@jupyter-widgets/base",
            "overflow": null,
            "_model_module_version": "1.2.0",
            "_view_count": null,
            "flex_flow": null,
            "width": null,
            "min_width": null,
            "border": null,
            "align_items": null,
            "bottom": null,
            "_model_module": "@jupyter-widgets/base",
            "top": null,
            "grid_column": null,
            "overflow_y": null,
            "overflow_x": null,
            "grid_auto_flow": null,
            "grid_area": null,
            "grid_template_columns": null,
            "flex": null,
            "_model_name": "LayoutModel",
            "justify_items": null,
            "grid_row": null,
            "max_height": null,
            "align_content": null,
            "visibility": null,
            "align_self": null,
            "height": null,
            "min_height": null,
            "padding": null,
            "grid_auto_rows": null,
            "grid_gap": null,
            "max_width": null,
            "order": null,
            "_view_module_version": "1.2.0",
            "grid_template_areas": null,
            "object_position": null,
            "object_fit": null,
            "grid_auto_columns": null,
            "margin": null,
            "display": null,
            "left": null
          }
        },
        "b4cd2a85ad2e46eba054bf258678ceeb": {
          "model_module": "@jupyter-widgets/controls",
          "model_name": "ProgressStyleModel",
          "model_module_version": "1.5.0",
          "state": {
            "_view_name": "StyleView",
            "_model_name": "ProgressStyleModel",
            "description_width": "",
            "_view_module": "@jupyter-widgets/base",
            "_model_module_version": "1.5.0",
            "_view_count": null,
            "_view_module_version": "1.2.0",
            "bar_color": null,
            "_model_module": "@jupyter-widgets/controls"
          }
        },
        "c0b172b3128444e9a361a8d98e32b6b0": {
          "model_module": "@jupyter-widgets/base",
          "model_name": "LayoutModel",
          "model_module_version": "1.2.0",
          "state": {
            "_view_name": "LayoutView",
            "grid_template_rows": null,
            "right": null,
            "justify_content": null,
            "_view_module": "@jupyter-widgets/base",
            "overflow": null,
            "_model_module_version": "1.2.0",
            "_view_count": null,
            "flex_flow": null,
            "width": null,
            "min_width": null,
            "border": null,
            "align_items": null,
            "bottom": null,
            "_model_module": "@jupyter-widgets/base",
            "top": null,
            "grid_column": null,
            "overflow_y": null,
            "overflow_x": null,
            "grid_auto_flow": null,
            "grid_area": null,
            "grid_template_columns": null,
            "flex": null,
            "_model_name": "LayoutModel",
            "justify_items": null,
            "grid_row": null,
            "max_height": null,
            "align_content": null,
            "visibility": null,
            "align_self": null,
            "height": null,
            "min_height": null,
            "padding": null,
            "grid_auto_rows": null,
            "grid_gap": null,
            "max_width": null,
            "order": null,
            "_view_module_version": "1.2.0",
            "grid_template_areas": null,
            "object_position": null,
            "object_fit": null,
            "grid_auto_columns": null,
            "margin": null,
            "display": null,
            "left": null
          }
        },
        "71c7614098c7406e990ee87c924d3deb": {
          "model_module": "@jupyter-widgets/controls",
          "model_name": "DescriptionStyleModel",
          "model_module_version": "1.5.0",
          "state": {
            "_view_name": "StyleView",
            "_model_name": "DescriptionStyleModel",
            "description_width": "",
            "_view_module": "@jupyter-widgets/base",
            "_model_module_version": "1.5.0",
            "_view_count": null,
            "_view_module_version": "1.2.0",
            "_model_module": "@jupyter-widgets/controls"
          }
        },
        "cf44f7e9a1124e059c8959e3d4cbd9f3": {
          "model_module": "@jupyter-widgets/base",
          "model_name": "LayoutModel",
          "model_module_version": "1.2.0",
          "state": {
            "_view_name": "LayoutView",
            "grid_template_rows": null,
            "right": null,
            "justify_content": null,
            "_view_module": "@jupyter-widgets/base",
            "overflow": null,
            "_model_module_version": "1.2.0",
            "_view_count": null,
            "flex_flow": null,
            "width": null,
            "min_width": null,
            "border": null,
            "align_items": null,
            "bottom": null,
            "_model_module": "@jupyter-widgets/base",
            "top": null,
            "grid_column": null,
            "overflow_y": null,
            "overflow_x": null,
            "grid_auto_flow": null,
            "grid_area": null,
            "grid_template_columns": null,
            "flex": null,
            "_model_name": "LayoutModel",
            "justify_items": null,
            "grid_row": null,
            "max_height": null,
            "align_content": null,
            "visibility": null,
            "align_self": null,
            "height": null,
            "min_height": null,
            "padding": null,
            "grid_auto_rows": null,
            "grid_gap": null,
            "max_width": null,
            "order": null,
            "_view_module_version": "1.2.0",
            "grid_template_areas": null,
            "object_position": null,
            "object_fit": null,
            "grid_auto_columns": null,
            "margin": null,
            "display": null,
            "left": null
          }
        }
      }
    }
  },
  "cells": [
    {
      "cell_type": "markdown",
      "metadata": {
        "id": "view-in-github",
        "colab_type": "text"
      },
      "source": [
        "<a href=\"https://colab.research.google.com/github/prakashsukhwal/Machine-Learning-in-Healthcare/blob/main/Stanza_OpenIE.ipynb\" target=\"_parent\"><img src=\"https://colab.research.google.com/assets/colab-badge.svg\" alt=\"Open In Colab\"/></a>"
      ]
    },
    {
      "cell_type": "markdown",
      "metadata": {
        "id": "2-4lzQTC9yxG"
      },
      "source": [
        "# Stanza: A Tutorial on the Python CoreNLP Interface\n",
        "\n",
        "![Latest Version](https://img.shields.io/pypi/v/stanza.svg?colorB=bc4545)\n",
        "![Python Versions](https://img.shields.io/pypi/pyversions/stanza.svg?colorB=bc4545)\n",
        "\n",
        "While the Stanza library implements accurate neural network modules for basic functionalities such as part-of-speech tagging and dependency parsing, the [Stanford CoreNLP Java library](https://stanfordnlp.github.io/CoreNLP/) has been developed for years and offers more complementary features such as coreference resolution and relation extraction. To unlock these features, the Stanza library also offers an officially maintained Python interface to the CoreNLP Java library. This interface allows you to get NLP anntotations from CoreNLP by writing native Python code.\n",
        "\n",
        "\n",
        "This tutorial walks you through the installation, setup and basic usage of this Python CoreNLP interface. If you want to learn how to use the neural network components in Stanza, please refer to other tutorials."
      ]
    },
    {
      "cell_type": "markdown",
      "metadata": {
        "id": "YpKwWeVkASGt"
      },
      "source": [
        "## 1. Installation\n",
        "\n",
        "Before the installation starts, please make sure that you have Python 3 and Java installed on your computer. Since Colab already has them installed, we'll skip this procedure in this notebook."
      ]
    },
    {
      "cell_type": "markdown",
      "metadata": {
        "id": "k1Az2ECuAfG8"
      },
      "source": [
        "### Installing Stanza\n",
        "\n",
        "Installing and importing Stanza are as simple as running the following commands:"
      ]
    },
    {
      "cell_type": "code",
      "metadata": {
        "id": "xiFwYAgW4Mss",
        "colab": {
          "base_uri": "https://localhost:8080/"
        },
        "outputId": "287b1d3c-ff1e-47cf-9d19-7e9b18730b7b"
      },
      "source": [
        "# Install stanza; note that the prefix \"!\" is not needed if you are running in a terminal\n",
        "!pip install stanza\n",
        "\n",
        "# Import stanza\n",
        "import stanza"
      ],
      "execution_count": null,
      "outputs": [
        {
          "output_type": "stream",
          "name": "stdout",
          "text": [
            "Collecting stanza\n",
            "  Downloading stanza-1.3.0-py3-none-any.whl (432 kB)\n",
            "\u001b[K     |████████████████████████████████| 432 kB 5.1 MB/s \n",
            "\u001b[?25hRequirement already satisfied: six in /usr/local/lib/python3.7/dist-packages (from stanza) (1.15.0)\n",
            "Requirement already satisfied: numpy in /usr/local/lib/python3.7/dist-packages (from stanza) (1.19.5)\n",
            "Requirement already satisfied: tqdm in /usr/local/lib/python3.7/dist-packages (from stanza) (4.62.3)\n",
            "Requirement already satisfied: protobuf in /usr/local/lib/python3.7/dist-packages (from stanza) (3.17.3)\n",
            "Collecting emoji\n",
            "  Downloading emoji-1.6.1.tar.gz (170 kB)\n",
            "\u001b[K     |████████████████████████████████| 170 kB 54.2 MB/s \n",
            "\u001b[?25hRequirement already satisfied: torch>=1.3.0 in /usr/local/lib/python3.7/dist-packages (from stanza) (1.9.0+cu111)\n",
            "Requirement already satisfied: requests in /usr/local/lib/python3.7/dist-packages (from stanza) (2.23.0)\n",
            "Requirement already satisfied: typing-extensions in /usr/local/lib/python3.7/dist-packages (from torch>=1.3.0->stanza) (3.7.4.3)\n",
            "Requirement already satisfied: idna<3,>=2.5 in /usr/local/lib/python3.7/dist-packages (from requests->stanza) (2.10)\n",
            "Requirement already satisfied: urllib3!=1.25.0,!=1.25.1,<1.26,>=1.21.1 in /usr/local/lib/python3.7/dist-packages (from requests->stanza) (1.24.3)\n",
            "Requirement already satisfied: certifi>=2017.4.17 in /usr/local/lib/python3.7/dist-packages (from requests->stanza) (2021.5.30)\n",
            "Requirement already satisfied: chardet<4,>=3.0.2 in /usr/local/lib/python3.7/dist-packages (from requests->stanza) (3.0.4)\n",
            "Building wheels for collected packages: emoji\n",
            "  Building wheel for emoji (setup.py) ... \u001b[?25l\u001b[?25hdone\n",
            "  Created wheel for emoji: filename=emoji-1.6.1-py3-none-any.whl size=169314 sha256=78f53629e97b010467fcb491653d9f10f3b9f24000f0cc224270c9b72438c572\n",
            "  Stored in directory: /root/.cache/pip/wheels/ea/5f/d3/03d313ddb3c2a1a427bb4690f1621eea60fe6f2a30cc95940f\n",
            "Successfully built emoji\n",
            "Installing collected packages: emoji, stanza\n",
            "Successfully installed emoji-1.6.1 stanza-1.3.0\n"
          ]
        }
      ]
    },
    {
      "cell_type": "markdown",
      "metadata": {
        "id": "2zFvaA8_A32_"
      },
      "source": [
        "### Setting up Stanford CoreNLP\n",
        "\n",
        "In order for the interface to work, the Stanford CoreNLP library has to be installed and a `CORENLP_HOME` environment variable has to be pointed to the installation location.\n",
        "\n",
        "Here we are going to show you how to download and install the CoreNLP library on your machine, with Stanza's installation command:"
      ]
    },
    {
      "cell_type": "code",
      "metadata": {
        "id": "MgK6-LPV-OdA",
        "colab": {
          "base_uri": "https://localhost:8080/",
          "height": 82,
          "referenced_widgets": [
            "c47f00587226402ead9edd4467b8c921",
            "d01b8ccd0cf5422098848383c0d250d1",
            "662285ffc91948ebb0dc3e91416905e6",
            "2e633d13cf934a5ca6a1a38484506aee",
            "550bc618b1fb40d7a4ec15ee6cdbcbbd",
            "a81b6ef6519f4c5c8782c03bb1805603",
            "ea71e63636d643ce91853f0db5632de4",
            "b4cd2a85ad2e46eba054bf258678ceeb",
            "c0b172b3128444e9a361a8d98e32b6b0",
            "71c7614098c7406e990ee87c924d3deb",
            "cf44f7e9a1124e059c8959e3d4cbd9f3"
          ]
        },
        "outputId": "e2ec2baa-460d-4ce3-bdb3-0a3e1747f3a8"
      },
      "source": [
        "# Download the Stanford CoreNLP package with Stanza's installation command\n",
        "# This'll take several minutes, depending on the network speed\n",
        "corenlp_dir = './corenlp'\n",
        "stanza.install_corenlp(dir=corenlp_dir)\n",
        "\n",
        "# Set the CORENLP_HOME environment variable to point to the installation location\n",
        "import os\n",
        "os.environ[\"CORENLP_HOME\"] = corenlp_dir"
      ],
      "execution_count": null,
      "outputs": [
        {
          "output_type": "stream",
          "name": "stderr",
          "text": [
            "2021-10-19 05:25:56 INFO: Installing CoreNLP package into ./corenlp...\n"
          ]
        },
        {
          "output_type": "display_data",
          "data": {
            "application/vnd.jupyter.widget-view+json": {
              "model_id": "c47f00587226402ead9edd4467b8c921",
              "version_minor": 0,
              "version_major": 2
            },
            "text/plain": [
              "Downloading https://huggingface.co/stanfordnlp/CoreNLP/resolve/main/stanford-corenlp-latest.zip:   0%|        …"
            ]
          },
          "metadata": {}
        },
        {
          "output_type": "stream",
          "name": "stderr",
          "text": [
            "2021-10-19 05:26:04 WARNING: For customized installation location, please set the `CORENLP_HOME` environment variable to the location of the installation. In Unix, this is done with `export CORENLP_HOME=./corenlp`.\n"
          ]
        }
      ]
    },
    {
      "cell_type": "markdown",
      "metadata": {
        "id": "Jdq8MT-NAhKj"
      },
      "source": [
        "That's all for the installation! 🎉  We can now double check if the installation is successful by listing files in the CoreNLP directory. You should be able to see a number of `.jar` files by running the following command:"
      ]
    },
    {
      "cell_type": "code",
      "metadata": {
        "id": "K5eIOaJp_tuo",
        "colab": {
          "base_uri": "https://localhost:8080/"
        },
        "outputId": "ae3814ea-8401-4479-d49f-97993a66ce3b"
      },
      "source": [
        "# Examine the CoreNLP installation folder to make sure the installation is successful\n",
        "!ls $CORENLP_HOME"
      ],
      "execution_count": null,
      "outputs": [
        {
          "output_type": "stream",
          "name": "stdout",
          "text": [
            "build.xml\t\t\t\t  jollyday.jar\n",
            "corenlp.sh\t\t\t\t  LIBRARY-LICENSES\n",
            "CoreNLP-to-HTML.xsl\t\t\t  LICENSE.txt\n",
            "ejml-core-0.39.jar\t\t\t  Makefile\n",
            "ejml-core-0.39-sources.jar\t\t  patterns\n",
            "ejml-ddense-0.39.jar\t\t\t  pom-java-11.xml\n",
            "ejml-ddense-0.39-sources.jar\t\t  pom-java-17.xml\n",
            "ejml-simple-0.39.jar\t\t\t  pom.xml\n",
            "ejml-simple-0.39-sources.jar\t\t  protobuf-java-3.11.4.jar\n",
            "input.txt\t\t\t\t  README.txt\n",
            "input.txt.out\t\t\t\t  RESOURCE-LICENSES\n",
            "input.txt.xml\t\t\t\t  SemgrexDemo.java\n",
            "istack-commons-runtime-3.0.7.jar\t  ShiftReduceDemo.java\n",
            "istack-commons-runtime-3.0.7-sources.jar  slf4j-api.jar\n",
            "javax.activation-api-1.2.0.jar\t\t  slf4j-simple.jar\n",
            "javax.activation-api-1.2.0-sources.jar\t  stanford-corenlp-4.3.1.jar\n",
            "javax.json-api-1.0-sources.jar\t\t  stanford-corenlp-4.3.1-javadoc.jar\n",
            "javax.json.jar\t\t\t\t  stanford-corenlp-4.3.1-models.jar\n",
            "jaxb-api-2.4.0-b180830.0359.jar\t\t  stanford-corenlp-4.3.1-sources.jar\n",
            "jaxb-api-2.4.0-b180830.0359-sources.jar   StanfordCoreNlpDemo.java\n",
            "jaxb-impl-2.4.0-b180830.0438.jar\t  StanfordDependenciesManual.pdf\n",
            "jaxb-impl-2.4.0-b180830.0438-sources.jar  sutime\n",
            "joda-time-2.10.5-sources.jar\t\t  tokensregex\n",
            "joda-time.jar\t\t\t\t  xom-1.3.7-sources.jar\n",
            "jollyday-0.4.9-sources.jar\t\t  xom.jar\n"
          ]
        }
      ]
    },
    {
      "cell_type": "markdown",
      "metadata": {
        "id": "S0xb9BHt__gx"
      },
      "source": [
        "**Note 1**:\n",
        "If you are want to use the interface in a terminal (instead of a Colab notebook), you can properly set the `CORENLP_HOME` environment variable with:\n",
        "\n",
        "```bash\n",
        "export CORENLP_HOME=path_to_corenlp_dir\n",
        "```\n",
        "\n",
        "Here we instead set this variable with the Python `os` library, simply because `export` command is not well-supported in Colab notebook.\n",
        "\n",
        "\n",
        "**Note 2**:\n",
        "The `stanza.install_corenlp()` function is only available since Stanza v1.1.1. If you are using an earlier version of Stanza, please check out our [manual installation page](https://stanfordnlp.github.io/stanza/client_setup.html#manual-installation) for how to install CoreNLP on your computer.\n",
        "\n",
        "**Note 3**:\n",
        "Besides the installation function, we also provide a `stanza.download_corenlp_models()` function to help you download additional CoreNLP models for different languages that are not shipped with the default installation. Check out our [automatic installation website page](https://stanfordnlp.github.io/stanza/client_setup.html#automated-installation) for more information on how to use it."
      ]
    },
    {
      "cell_type": "markdown",
      "metadata": {
        "id": "xJsuO6D8D05q"
      },
      "source": [
        "## 2. Annotating Text with CoreNLP Interface"
      ]
    },
    {
      "cell_type": "markdown",
      "metadata": {
        "id": "dZNHxXHkH1K2"
      },
      "source": [
        "### Constructing CoreNLPClient\n",
        "\n",
        "At a high level, the CoreNLP Python interface works by first starting a background Java CoreNLP server process, and then initializing a client instance in Python which can pass the text to the background server process, and accept the returned annotation results.\n",
        "\n",
        "We wrap these functionalities in a `CoreNLPClient` class. Therefore, we need to start by importing this class from Stanza."
      ]
    },
    {
      "cell_type": "code",
      "metadata": {
        "id": "LS4OKnqJ8wui"
      },
      "source": [
        "# Import client module\n",
        "from stanza.server import CoreNLPClient"
      ],
      "execution_count": null,
      "outputs": []
    },
    {
      "cell_type": "markdown",
      "metadata": {
        "id": "WP4Dz6PIJHeL"
      },
      "source": [
        "After the import is done, we can construct a `CoreNLPClient` instance. The constructor method takes a Python list of annotator names as argument. Here let's explore some basic annotators including tokenization, sentence split, part-of-speech tagging, lemmatization and named entity recognition (NER). \n",
        "\n",
        "Additionally, the client constructor accepts a `memory` argument, which specifies how much memory will be allocated to the background Java process. An `endpoint` option can be used to specify a port number used by the communication between the server and the client. The default port is 9000. However, since this port is pre-occupied by a system process in Colab, we'll manually set it to 9001 in the following example.\n",
        "\n",
        "Also, here we manually set `be_quiet=True` to avoid an IO issue in colab notebook. You should be able to use `be_quiet=False` on your own computer, which will print detailed logging information from CoreNLP during usage.\n",
        "\n",
        "For more options in constructing the clients, please refer to the [CoreNLP Client Options List](https://stanfordnlp.github.io/stanza/corenlp_client.html#corenlp-client-options)."
      ]
    },
    {
      "cell_type": "code",
      "metadata": {
        "id": "mbOBugvd9JaM",
        "colab": {
          "base_uri": "https://localhost:8080/"
        },
        "outputId": "bd63eed9-2f00-47eb-8cf3-3c54e25a4533"
      },
      "source": [
        "# Construct a CoreNLPClient with some basic annotators, a memory allocation of 4GB, and port number 9001\n",
        "client = CoreNLPClient(\n",
        "    annotators=['tokenize','ssplit', 'pos', 'lemma', 'ner', 'openie', 'coref'], \n",
        "    memory='8G', \n",
        "    endpoint='http://localhost:9001',\n",
        "    be_quiet=True)\n",
        "print(client)\n",
        "\n",
        "# Start the background server and wait for some time\n",
        "# Note that in practice this is totally optional, as by default the server will be started when the first annotation is performed\n",
        "client.start()\n",
        "import time; time.sleep(10)"
      ],
      "execution_count": null,
      "outputs": [
        {
          "output_type": "stream",
          "name": "stderr",
          "text": [
            "2021-10-19 05:26:21 INFO: Writing properties to tmp file: corenlp_server-57073e27b8714bce.props\n",
            "2021-10-19 05:26:21 INFO: Starting server with command: java -Xmx8G -cp ./corenlp/* edu.stanford.nlp.pipeline.StanfordCoreNLPServer -port 9001 -timeout 60000 -threads 5 -maxCharLength 100000 -quiet True -serverProperties corenlp_server-57073e27b8714bce.props -annotators tokenize,ssplit,pos,lemma,ner,openie,coref -preload -outputFormat serialized\n"
          ]
        },
        {
          "output_type": "stream",
          "name": "stdout",
          "text": [
            "<stanza.server.client.CoreNLPClient object at 0x7f5a39003310>\n"
          ]
        }
      ]
    },
    {
      "cell_type": "code",
      "metadata": {
        "id": "bAcl5-TJabEb"
      },
      "source": [
        "# import nltk\n",
        "# nltk.download('punkt')"
      ],
      "execution_count": null,
      "outputs": []
    },
    {
      "cell_type": "code",
      "metadata": {
        "id": "DGzLLhhqZzP_"
      },
      "source": [
        "# # try coref using corenlp\n",
        "# from nltk import tokenize\n",
        "# def pronoun_resolution(text):\n",
        "\n",
        "#     ann = client.annotate(text)\n",
        "#     modified_text = tokenize.sent_tokenize(text)\n",
        "\n",
        "#     for coref in ann.corefChain:\n",
        "\n",
        "#         antecedent = []\n",
        "#         for mention in coref.mention:\n",
        "#             phrase = []\n",
        "#             for i in range(mention.beginIndex, mention.endIndex):\n",
        "#                 phrase.append(ann.sentence[mention.sentenceIndex].token[i].word)\n",
        "#             if antecedent == []:\n",
        "#                 antecedent = ' '.join(word for word in phrase)\n",
        "#             else:\n",
        "#                 anaphor = ' '.join(word for word in phrase)\n",
        "#                 modified_text[mention.sentenceIndex] = modified_text[mention.sentenceIndex].replace(anaphor, antecedent)\n",
        "\n",
        "#     modified_text = ' '.join(modified_text)\n",
        "\n",
        "#     return modified_text\n",
        "\n",
        "# text = '''Panax ginseng C.A.Mey. (Korea red ginseng) has been used in Asia to treat inflammatory skin diseases. \n",
        "# Recently, it is emerging as a good candidate for treating atopic dermatitis (AD) because of its anti-allergic and anti-inflammatory effects.\n",
        "# Despite much effort, no systemic prevention strategy has been established for AD currently.'''\n",
        "# pronoun_resolution(text)"
      ],
      "execution_count": null,
      "outputs": []
    },
    {
      "cell_type": "markdown",
      "metadata": {
        "id": "kgTiVjNydmIW"
      },
      "source": [
        "After the above code block finishes executing, if you print the background processes, you should be able to find the Java CoreNLP server running."
      ]
    },
    {
      "cell_type": "code",
      "metadata": {
        "id": "spZrJ-oFdkdF",
        "colab": {
          "base_uri": "https://localhost:8080/"
        },
        "outputId": "3bed0cbd-cd3a-422c-c56b-36d2066be027"
      },
      "source": [
        "# Print background processes and look for java\n",
        "# You should be able to see a StanfordCoreNLPServer java process running in the background\n",
        "!ps -o pid,cmd | grep java"
      ],
      "execution_count": null,
      "outputs": [
        {
          "output_type": "stream",
          "name": "stdout",
          "text": [
            "    139 java -Xmx8G -cp ./corenlp/* edu.stanford.nlp.pipeline.StanfordCoreNLPServer -port 9001 -timeout 60000 -threads 5 -maxCharLength 100000 -quiet True -serverProperties corenlp_server-57073e27b8714bce.props -annotators tokenize,ssplit,pos,lemma,ner,openie,coref -preload -outputFormat serialized\n",
            "    160 /bin/bash -c ps -o pid,cmd | grep java\n",
            "    162 grep java\n"
          ]
        }
      ]
    },
    {
      "cell_type": "markdown",
      "metadata": {
        "id": "KxJeJ0D2LoOs"
      },
      "source": [
        "### Annotating Text\n",
        "\n",
        "Annotating a piece of text is as simple as passing the text into an `annotate` function of the client object. After the annotation is complete, a `Document`  object will be returned with all annotations.\n",
        "\n",
        "Note that although in general annotations are very fast, the first annotation might take a while to complete in the notebook. Please stay patient."
      ]
    },
    {
      "cell_type": "code",
      "metadata": {
        "colab": {
          "base_uri": "https://localhost:8080/"
        },
        "id": "lkyfxZ7zDXU9",
        "outputId": "be5380d6-948b-42ac-f7bd-06ddd11967fe"
      },
      "source": [
        "# text = \"\"\"\n",
        "\n",
        "# Panax ginseng C.A.Mey. (Korea red ginseng) has been used in Asia to treat inflammatory skin diseases. \n",
        "# Recently, it is emerging as a good candidate for treating atopic dermatitis (AD) because of its anti-allergic and anti-inflammatory effects.\n",
        "# Despite much effort, no systemic prevention strategy has been established for AD currently. \n",
        "# Therefore, the aim of this study was to determine the preventive effect of a combination of KRG extract and probiotics on AD-like skin lesions of mice. Forty NC/Nga mice were randomly divided into eight groups: Sham, AD control, Cyclosporine, KRG, Duolac ATPÂ® (ATP), BYO Plant Origin Skin Probiotics (BYO), KRGÂ +Â ATP, and KRGÂ +Â BYO. Mice were administered orally with KRG and/or other agents using a gastric tube for 5 days prior to challenge with 1-chloro-2,4-dinitrobenzene (DNCB). AD-like skin lesions were induced by percutaneous challenge with DNCB on ears and backs of NC/Nga mice. Effects of each treatment were evaluated based on the following: Clinical severity score, ear thickness, transepidermal water loss (TEWL), total serum Immunoglobulin E (IgE) level, mRNA expression levels and immunohistochemistry analysis of IFN-Î³, IL-4, and TSLP in cutaneous lesions. TEWL, serum IgE level, and expression of immunohistopathologic markers were more improved in the group using KRG combined with probiotics than in the group using KRG or probiotics alone. ATP, KRGÂ +Â ATP, and KRGÂ +Â BYO groups showed reduced TEWL increase (Î”TEWL) at 48Â h (pÂ &lt;Â 0.005). KRGÂ +Â ATP showed a preventive effect on the increase of serum IgE level (pÂ =Â 0.009). In immunohistopathologic analysis, KRG, ATP, BYO, KRGÂ +Â ATP, and KRGÂ +Â BYO groups showed significantly reduced expression levels of IFN-Î³ at 1Â h, 6Â h, and 48Â h (all pÂ &lt;Â 0.05). KRG, ATP, BYO, and KRGÂ +Â BYO groups showed reduced expression levels of IL-4 compared to the AD control group at 6Â h and 24Â h. KRG, ATP, BYO, KRGÂ +Â ATP, and KRGÂ +Â BYP groups showed significantly lower expression levels of TSLP than the AD control group at 1Â h and 24Â h. KRG can suppress increases of allergic and inflammatory cytokines and increase of TEWL. A combination of KRG and probiotics might have better effects than KRG or probiotics alone for preventing an AD flare-up.\n",
        "\n",
        "# \"\"\"\n",
        "\n",
        "text = \"\"\"  \n",
        "Panax ginseng C.A.Mey . ( Korea red ginseng ) has been used in Asia to treat inflammatory skin diseases . Recently , Korea red ginseng ( KRG means Korea red ginseng ) is emerging as a good candidate for treating atopic dermatitis ( AD means atopic dermatitis ) because of its anti-allergic and anti-inflammatory effects . Despite much effort , no systemic prevention strategy has been established for AD means atopic dermatitis currently . Therefore , the aim of this study was to determine the preventive effect of a combination of KRG means Korea red ginseng extract and probiotics on AD-like skin lesions of mice . Forty NC/Nga mice were randomly divided into eight groups : Sham , AD means atopic dermatitis control , Cyclosporine , KRG means Korea red ginseng , Duolac ATP means ATP® ® ( ATP means ATP® ) , BYO means BYO Plant Origin Skin Probiotics Plant Origin Skin Probiotics ( BYO means BYO Plant Origin Skin Probiotics ) , KRG means Korea red ginseng   +   ATP means ATP® , and KRG means Korea red ginseng   +   BYO means BYO Plant Origin Skin Probiotics . Mice were administered orally with KRG means Korea red ginseng and/or other agents using a gastric tube for 5 days prior to challenge with 1-chloro-2,4-dinitrobenzene ( DNCB means days prior to challenge with 1-chloro-2,4-dinitrobenzene ) . AD-like skin lesions were induced by percutaneous challenge with DNCB means days prior to challenge with 1-chloro-2,4-dinitrobenzene on ears and backs of NC/Nga mice . Effects of each treatment were evaluated based on the following : Clinical severity score , ear thickness , transepidermal water loss ( TEWL means transepidermal water loss ) , total serum Immunoglobulin E ( IgE means Immunoglobulin E ) level , mRNA expression levels and immunohistochemistry analysis of IFN-γ , IL-4 , and TSLP in cutaneous lesions . TEWL means transepidermal water loss , serum IgE means Immunoglobulin E level , and expression of immunohistopathologic markers were more improved in the group using KRG means Korea red ginseng combined with probiotics than in the group using KRG means Korea red ginseng or probiotics alone . ATP means ATP® , KRG means Korea red ginseng   +   ATP means ATP® , and KRG means Korea red ginseng   +   BYO means BYO Plant Origin Skin Probiotics groups showed reduced TEWL means transepidermal water loss increase ( ΔTEWL ) at 48   h ( p   & lt ;   0.005 ) . KRG means Korea red ginseng   +   ATP means ATP® showed a preventive effect on the increase of serum IgE means Immunoglobulin E level ( p   =   0.009 ) . In immunohistopathologic analysis , KRG means Korea red ginseng , ATP means ATP® , BYO means BYO Plant Origin Skin Probiotics , KRG means Korea red ginseng   +   ATP means ATP® , and KRG means Korea red ginseng   +   BYO means BYO Plant Origin Skin Probiotics groups showed significantly reduced expression levels of IFN-γ at 1   h , 6   h , and 48   h ( all p   & lt ;   0.05 ) . KRG means Korea red ginseng , ATP means ATP® , BYO means BYO Plant Origin Skin Probiotics , and KRG means Korea red ginseng   +   BYO means BYO Plant Origin Skin Probiotics groups showed reduced expression levels of IL-4 compared to the AD means atopic dermatitis control group at 6   h and 24   h. KRG means Korea red ginseng , ATP means ATP® , BYO means BYO Plant Origin Skin Probiotics , KRG means Korea red ginseng   +   ATP means ATP® , and KRG means Korea red ginseng   +   BYP groups showed significantly lower expression levels of TSLP than the AD means atopic dermatitis control group at 1   h and 24   h. KRG means Korea red ginseng can suppress increases of allergic and inflammatory cytokines and increase of TEWL means transepidermal water loss . A combination of KRG means Korea red ginseng and probiotics might have better effects than KRG means Korea red ginseng or probiotics alone for preventing an AD means atopic dermatitis flare-up \n",
        "\"\"\"\n",
        "document = client.annotate(text, output_format='json')\n",
        "triples = []\n",
        "for sentence in document['sentences']:\n",
        "    for triple in sentence['openie']:\n",
        "        triples.append({\n",
        "           'subject': triple['subject'],\n",
        "           'relation': triple['relation'],\n",
        "            'object': triple['object']\n",
        "        })\n",
        "print(triples)"
      ],
      "execution_count": null,
      "outputs": [
        {
          "output_type": "stream",
          "name": "stdout",
          "text": [
            "[{'subject': 'Korea red ginseng', 'relation': 'treat', 'object': 'inflammatory skin diseases'}, {'subject': 'Korea red ginseng', 'relation': 'treat', 'object': 'skin diseases'}, {'subject': 'Korea red ginseng', 'relation': 'has', 'object': 'has used'}, {'subject': 'Korea red ginseng', 'relation': 'has', 'object': 'has used in Asia'}, {'subject': 'Korea ginseng', 'relation': 'Recently is emerging for', 'object': 'treating atopic dermatitis'}, {'subject': 'Korea ginseng', 'relation': 'is emerging for', 'object': 'atopic dermatitis'}, {'subject': 'Korea ginseng', 'relation': 'Recently is emerging as', 'object': 'candidate'}, {'subject': 'Korea ginseng', 'relation': 'Recently is emerging for', 'object': 'dermatitis'}, {'subject': 'Korea ginseng', 'relation': 'is emerging for', 'object': 'dermatitis'}, {'subject': 'Korea ginseng', 'relation': 'is emerging as', 'object': 'good candidate'}, {'subject': 'Korea ginseng', 'relation': 'is emerging because', 'object': 'its effects'}, {'subject': 'Korea ginseng', 'relation': 'is emerging for', 'object': 'treating dermatitis'}, {'subject': 'Korea ginseng', 'relation': 'Recently is emerging for', 'object': 'treating dermatitis'}, {'subject': 'Korea ginseng', 'relation': 'Recently is emerging for', 'object': 'atopic dermatitis'}, {'subject': 'Korea ginseng', 'relation': 'is emerging as', 'object': 'candidate'}, {'subject': 'AD', 'relation': 'means', 'object': 'atopic dermatitis'}, {'subject': 'Korea ginseng', 'relation': 'Recently is emerging because', 'object': 'its anti-allergic effects'}, {'subject': 'KRG', 'relation': 'means', 'object': 'Korea red ginseng'}, {'subject': 'Korea ginseng', 'relation': 'is emerging for', 'object': 'treating atopic dermatitis'}, {'subject': 'Korea ginseng', 'relation': 'Recently is emerging because', 'object': 'its effects'}, {'subject': 'KRG', 'relation': 'means', 'object': 'Korea ginseng'}, {'subject': 'Korea ginseng', 'relation': 'Recently is emerging as', 'object': 'good candidate'}, {'subject': 'Korea ginseng', 'relation': 'is emerging because', 'object': 'its anti-allergic effects'}, {'subject': 'AD', 'relation': 'means', 'object': 'dermatitis'}, {'subject': 'effect', 'relation': 'means', 'object': 'Korea ginseng extract'}, {'subject': 'effect', 'relation': 'means', 'object': 'Korea ginseng extract on skin lesions'}, {'subject': 'aim', 'relation': 'was determine', 'object': 'preventive effect'}, {'subject': 'aim', 'relation': 'was determine', 'object': 'preventive effect of combination of KRG'}, {'subject': 'preventive effect', 'relation': 'aim of', 'object': 'study'}, {'subject': 'effect', 'relation': 'means', 'object': 'Korea red ginseng extract on AD like skin lesions'}, {'subject': 'preventive effect', 'relation': 'means', 'object': 'Korea ginseng extract on AD like skin lesions'}, {'subject': 'aim', 'relation': 'Therefore was determine', 'object': 'effect of combination'}, {'subject': 'preventive effect', 'relation': 'means', 'object': 'Korea ginseng extract on skin lesions of mice'}, {'subject': 'aim', 'relation': 'Therefore was determine', 'object': 'preventive effect of combination of KRG'}, {'subject': 'effect', 'relation': 'means', 'object': 'Korea red ginseng extract'}, {'subject': 'aim', 'relation': 'Therefore was determine', 'object': 'effect'}, {'subject': 'effect', 'relation': 'means', 'object': 'Korea ginseng extract on AD like skin lesions'}, {'subject': 'aim', 'relation': 'was determine', 'object': 'preventive effect of combination'}, {'subject': 'effect', 'relation': 'means', 'object': 'Korea red ginseng extract on AD like skin lesions of mice'}, {'subject': 'preventive effect', 'relation': 'means', 'object': 'Korea ginseng extract on skin lesions'}, {'subject': 'effect', 'relation': 'aim of', 'object': 'study'}, {'subject': 'preventive effect', 'relation': 'means', 'object': 'Korea red ginseng extract'}, {'subject': 'effect', 'relation': 'means', 'object': 'Korea red ginseng extract on skin lesions of mice'}, {'subject': 'preventive effect', 'relation': 'means', 'object': 'Korea ginseng extract on AD like skin lesions of mice'}, {'subject': 'preventive effect', 'relation': 'means', 'object': 'Korea red ginseng extract on AD like skin lesions'}, {'subject': 'preventive effect', 'relation': 'means', 'object': 'Korea ginseng extract'}, {'subject': 'preventive effect', 'relation': 'means', 'object': 'Korea red ginseng extract on skin lesions'}, {'subject': 'aim', 'relation': 'was determine', 'object': 'effect'}, {'subject': 'aim', 'relation': 'was determine', 'object': 'effect of combination of KRG'}, {'subject': 'effect', 'relation': 'means', 'object': 'Korea ginseng extract on skin lesions of mice'}, {'subject': 'effect', 'relation': 'means', 'object': 'Korea ginseng extract on AD like skin lesions of mice'}, {'subject': 'preventive effect', 'relation': 'means', 'object': 'Korea red ginseng extract on skin lesions of mice'}, {'subject': 'preventive effect', 'relation': 'means', 'object': 'Korea red ginseng extract on AD like skin lesions of mice'}, {'subject': 'effect', 'relation': 'means', 'object': 'Korea red ginseng extract on skin lesions'}, {'subject': 'aim', 'relation': 'Therefore was determine', 'object': 'effect of combination of KRG'}, {'subject': 'aim', 'relation': 'was determine', 'object': 'effect of combination'}, {'subject': 'aim', 'relation': 'Therefore was determine', 'object': 'preventive effect of combination'}, {'subject': 'aim', 'relation': 'Therefore was determine', 'object': 'preventive effect'}, {'subject': 'Sham', 'relation': 'means', 'object': 'dermatitis control'}, {'subject': 'Sham', 'relation': 'means', 'object': 'atopic dermatitis control'}, {'subject': 'DNCB', 'relation': 'means', 'object': 'days'}, {'subject': 'Korea', 'relation': 'means', 'object': 'days prior to challenge with 1 chloro -2,4-dinitrobenzene'}, {'subject': 'challenge', 'relation': 'is with', 'object': '1 chloro -2,4-dinitrobenzene'}, {'subject': 'challenge', 'relation': 'is with', 'object': '1 chloro -2,4-dinitrobenzene'}, {'subject': 'DNCB', 'relation': 'means', 'object': 'days prior to challenge with 1 chloro -2,4-dinitrobenzene'}, {'subject': 'Korea', 'relation': 'means', 'object': 'days to challenge'}, {'subject': 'DNCB', 'relation': 'means', 'object': 'days to challenge'}, {'subject': 'Korea', 'relation': 'means', 'object': 'days'}, {'subject': 'DNCB', 'relation': 'means', 'object': 'days to challenge with 1 chloro -2,4-dinitrobenzene'}, {'subject': 'Mice', 'relation': 'were', 'object': 'administered orally'}, {'subject': 'Mice', 'relation': 'were administered orally with', 'object': 'KRG'}, {'subject': 'Korea', 'relation': 'means', 'object': 'days to challenge with 1 chloro -2,4-dinitrobenzene'}, {'subject': 'DNCB', 'relation': 'means', 'object': 'days prior to challenge'}, {'subject': 'Korea', 'relation': 'means', 'object': 'days prior to challenge'}, {'subject': 'Mice', 'relation': 'were', 'object': 'administered'}, {'subject': 'Mice', 'relation': 'were administered with', 'object': 'KRG'}, {'subject': 'skin lesions', 'relation': 'were', 'object': 'induced by challenge with DNCB'}, {'subject': 'skin lesions', 'relation': 'were induced by', 'object': 'challenge'}, {'subject': 'skin lesions', 'relation': 'were', 'object': 'induced by percutaneous challenge with DNCB'}, {'subject': 'challenge', 'relation': 'is with', 'object': '1 chloro -2,4-dinitrobenzene on ears of NC Nga mice'}, {'subject': 'skin lesions', 'relation': 'were induced by', 'object': 'percutaneous challenge'}, {'subject': 'TSLP', 'relation': 'is in', 'object': 'cutaneous lesions'}, {'subject': 'Korea ginseng', 'relation': 'combined with', 'object': 'probiotics'}, {'subject': 'Korea red ginseng', 'relation': 'combined with', 'object': 'probiotics than in group'}, {'subject': 'probiotics', 'relation': 'is in', 'object': 'than group'}, {'subject': 'transepidermal water loss', 'relation': 'TEWL', 'object': 'expression'}, {'subject': 'water loss', 'relation': 'TEWL', 'object': 'expression of markers'}, {'subject': 'transepidermal water loss', 'relation': 'TEWL', 'object': 'expression of markers'}, {'subject': 'TEWL', 'relation': 'means', 'object': 'water loss'}, {'subject': 'Korea ginseng', 'relation': 'combined with', 'object': 'probiotics than in group'}, {'subject': 'TEWL', 'relation': 'means', 'object': 'transepidermal water loss'}, {'subject': 'water loss', 'relation': 'TEWL', 'object': 'expression of immunohistopathologic markers'}, {'subject': 'water loss', 'relation': 'TEWL', 'object': 'expression'}, {'subject': 'Korea red ginseng', 'relation': 'combined with', 'object': 'probiotics'}, {'subject': 'serum IgE', 'relation': 'means', 'object': 'Immunoglobulin E level'}, {'subject': 'transepidermal water loss', 'relation': 'TEWL', 'object': 'expression of immunohistopathologic markers'}, {'subject': 'TEWL', 'relation': 'means', 'object': 'water loss increase'}, {'subject': 'TEWL', 'relation': 'means water loss increase at', 'object': '48 h'}, {'subject': 'reduced TEWL', 'relation': 'means water loss increase at', 'object': 'p'}, {'subject': 'Korea ginseng ATP', 'relation': 'means', 'object': 'ATP'}, {'subject': 'TEWL', 'relation': 'means', 'object': 'transepidermal water loss increase'}, {'subject': 'TEWL', 'relation': 'means', 'object': 'ΔTEWL'}, {'subject': 'reduced TEWL', 'relation': 'means water loss increase at', 'object': '48 h'}, {'subject': 'reduced TEWL', 'relation': 'means', 'object': 'ΔTEWL'}, {'subject': 'reduced TEWL', 'relation': 'means', 'object': 'water loss increase'}, {'subject': 'TEWL', 'relation': 'means water loss increase at', 'object': 'p'}, {'subject': 'reduced TEWL', 'relation': 'means', 'object': 'transepidermal water loss increase'}, {'subject': 'ATP', 'relation': 'means', 'object': 'KRG means'}, {'subject': 'Korea red ginseng ATP', 'relation': 'means', 'object': 'ATP'}, {'subject': 'KRG means', 'relation': 'ATP', 'object': 'KRG means'}, {'subject': 'ATP', 'relation': 'showed', 'object': 'effect on increase'}, {'subject': 'ATP', 'relation': 'showed', 'object': 'preventive effect on increase'}, {'subject': 'ATP', 'relation': 'showed', 'object': 'effect on increase of serum IgE'}, {'subject': 'KRG means', 'relation': 'means', 'object': 'Immunoglobulin E level'}, {'subject': 'ATP', 'relation': 'showed', 'object': 'effect'}, {'subject': 'ATP', 'relation': 'showed', 'object': 'preventive effect'}, {'subject': 'ATP', 'relation': 'showed', 'object': 'preventive effect on increase of serum IgE'}, {'subject': 'BYO Plant Origin Skin Probiotics groups', 'relation': 'showed expression levels at', 'object': '1 h'}, {'subject': 'BYO Plant Origin Skin Probiotics groups', 'relation': 'showed', 'object': 'significantly reduced expression levels of IFN'}, {'subject': 'BYO Plant Origin Skin Probiotics groups', 'relation': 'showed', 'object': 'reduced expression levels of IFN'}, {'subject': 'Korea ginseng ATP', 'relation': 'means', 'object': 'ATP'}, {'subject': 'BYO Plant Origin Skin Probiotics groups', 'relation': 'showed', 'object': 'reduced expression levels'}, {'subject': 'BYO Plant Origin Skin Probiotics groups', 'relation': 'showed', 'object': 'expression levels'}, {'subject': 'Korea red ginseng ATP', 'relation': 'means', 'object': 'ATP'}, {'subject': 'KRG', 'relation': 'means', 'object': 'ATP'}, {'subject': 'KRG', 'relation': 'means', 'object': 'Korea red ginseng ATP'}, {'subject': 'BYO Plant Origin Skin Probiotics groups', 'relation': 'showed', 'object': 'significantly reduced expression levels'}, {'subject': 'ATP', 'relation': 'means', 'object': 'ATP'}, {'subject': 'BYO Plant Origin Skin Probiotics groups', 'relation': 'showed', 'object': '6 h'}, {'subject': 'BYO Plant Origin Skin Probiotics groups', 'relation': 'showed', 'object': 'expression levels of IFN'}, {'subject': 'BYO', 'relation': 'means', 'object': 'BYO Plant Origin Skin Probiotics'}, {'subject': 'KRG', 'relation': 'means', 'object': 'Korea ginseng ATP'}, {'subject': 'expression levels', 'relation': 'means', 'object': 'atopic dermatitis control group'}, {'subject': 'BYO Plant Origin Skin Probiotics groups', 'relation': 'means dermatitis control group at', 'object': '6 h'}, {'subject': 'Korea red ginseng', 'relation': 'increases of', 'object': 'allergic cytokines'}, {'subject': 'Korea ginseng ATP', 'relation': 'means', 'object': 'ATP'}, {'subject': 'Korea ginseng', 'relation': 'can suppress', 'object': 'increases of cytokines'}, {'subject': 'Korea ginseng BYP groups', 'relation': 'showed', 'object': 'significantly lower expression levels of TSLP than AD'}, {'subject': 'Korea ginseng', 'relation': 'can suppress', 'object': 'increases'}, {'subject': 'Korea ginseng', 'relation': 'increases of', 'object': 'cytokines'}, {'subject': 'Korea ginseng BYP groups', 'relation': 'showed', 'object': 'expression levels than AD'}, {'subject': 'Korea red ginseng BYP groups', 'relation': 'showed', 'object': 'expression levels than AD'}, {'subject': 'Korea ginseng BYP groups', 'relation': 'showed', 'object': 'lower expression levels of TSLP than AD'}, {'subject': 'Korea ginseng BYP groups', 'relation': 'showed', 'object': 'significantly lower expression levels than AD'}, {'subject': 'means Korea ginseng means', 'relation': 'means', 'object': 'dermatitis control group'}, {'subject': 'reduced expression levels', 'relation': 'means dermatitis control group at', 'object': '6 h'}, {'subject': 'Korea ginseng BYP groups', 'relation': 'showed', 'object': 'lower expression levels than AD'}, {'subject': 'Korea red ginseng', 'relation': 'can suppress', 'object': 'increases of cytokines'}, {'subject': 'Korea red ginseng BYP groups', 'relation': 'showed', 'object': 'significantly lower expression levels of TSLP'}, {'subject': 'BYO Plant Origin Skin Probiotics groups', 'relation': 'means', 'object': 'atopic dermatitis control group'}, {'subject': 'Korea ginseng BYP groups', 'relation': 'showed', 'object': 'expression levels of TSLP'}, {'subject': 'Korea red ginseng', 'relation': 'can suppress', 'object': 'increases of allergic cytokines'}, {'subject': 'Korea red ginseng BYP groups', 'relation': 'showed', 'object': 'significantly lower expression levels of TSLP than AD'}, {'subject': 'Korea ginseng BYP groups', 'relation': 'showed', 'object': 'expression levels of TSLP than AD'}, {'subject': 'Korea red ginseng BYP groups', 'relation': 'showed', 'object': 'lower expression levels'}, {'subject': 'Korea red ginseng BYP groups', 'relation': 'showed', 'object': 'lower expression levels than AD'}, {'subject': 'KRG', 'relation': 'means', 'object': 'Korea red ginseng ATP'}, {'subject': 'Korea red ginseng BYP groups', 'relation': 'showed', 'object': 'lower expression levels of TSLP'}, {'subject': 'Korea red ginseng BYP groups', 'relation': 'showed', 'object': 'expression levels'}, {'subject': 'Korea ginseng BYP groups', 'relation': 'showed', 'object': 'significantly lower expression levels of TSLP'}, {'subject': 'BYO', 'relation': 'means', 'object': 'BYO Plant Origin Skin Probiotics'}, {'subject': 'BYO', 'relation': 'means', 'object': 'BYO Plant Origin Skin Probiotics'}, {'subject': 'Korea red ginseng BYP groups', 'relation': 'showed', 'object': 'significantly lower expression levels than AD'}, {'subject': 'Korea red ginseng', 'relation': 'can suppress', 'object': 'increases'}, {'subject': 'expression levels', 'relation': 'means', 'object': 'dermatitis control group'}, {'subject': 'Korea ginseng', 'relation': 'can suppress', 'object': 'increases of allergic cytokines'}, {'subject': 'Korea red ginseng ATP', 'relation': 'means', 'object': 'ATP'}, {'subject': 'KRG', 'relation': 'means', 'object': 'ATP'}, {'subject': 'means Korea red ginseng means', 'relation': 'means', 'object': 'dermatitis control group'}, {'subject': 'Korea red ginseng', 'relation': 'increases of', 'object': 'cytokines'}, {'subject': 'Korea red ginseng BYP groups', 'relation': 'showed', 'object': 'significantly lower expression levels'}, {'subject': 'Korea red ginseng BYP groups', 'relation': 'showed', 'object': 'expression levels of TSLP than AD'}, {'subject': 'ATP', 'relation': 'means', 'object': 'ATP'}, {'subject': 'reduced expression levels', 'relation': 'means', 'object': 'dermatitis control group'}, {'subject': 'ATP', 'relation': 'means', 'object': 'ATP'}, {'subject': 'Korea ginseng BYP groups', 'relation': 'showed', 'object': 'lower expression levels of TSLP'}, {'subject': 'expression levels', 'relation': 'means dermatitis control group at', 'object': '6 h'}, {'subject': 'Korea ginseng', 'relation': 'increases of', 'object': 'allergic cytokines'}, {'subject': 'BYO Plant Origin Skin Probiotics groups', 'relation': 'showed', 'object': 'expression levels'}, {'subject': 'BYO Plant Origin Skin Probiotics groups', 'relation': 'means', 'object': 'dermatitis control group'}, {'subject': 'Korea red ginseng BYP groups', 'relation': 'showed', 'object': 'lower expression levels of TSLP than AD'}, {'subject': 'Korea ginseng BYP groups', 'relation': 'showed', 'object': 'significantly lower expression levels'}, {'subject': 'Korea ginseng BYP groups', 'relation': 'showed', 'object': 'expression levels'}, {'subject': 'Korea ginseng BYP groups', 'relation': 'showed', 'object': 'lower expression levels'}, {'subject': 'Korea red ginseng BYP groups', 'relation': 'showed', 'object': 'expression levels of TSLP'}, {'subject': 'KRG', 'relation': 'means', 'object': 'Korea ginseng ATP'}, {'subject': 'reduced expression levels', 'relation': 'means', 'object': 'atopic dermatitis control group'}, {'subject': 'KRG', 'relation': 'means', 'object': 'Korea red ginseng'}, {'subject': 'AD', 'relation': 'means', 'object': 'dermatitis flare up'}, {'subject': 'AD', 'relation': 'means dermatitis flare up for', 'object': 'preventing'}, {'subject': 'Korea ginseng', 'relation': 'combination of', 'object': 'KRG'}, {'subject': 'AD', 'relation': 'means', 'object': 'atopic dermatitis flare up'}, {'subject': 'Korea red ginseng', 'relation': 'combination of', 'object': 'KRG'}, {'subject': 'combination', 'relation': 'means', 'object': 'Korea ginseng'}, {'subject': 'Korea ginseng', 'relation': 'combination', 'object': 'probiotics'}, {'subject': 'Korea red ginseng', 'relation': 'combination', 'object': 'probiotics'}, {'subject': 'KRG', 'relation': 'means', 'object': 'Korea ginseng'}, {'subject': 'combination', 'relation': 'means', 'object': 'Korea red ginseng'}]\n"
          ]
        }
      ]
    },
    {
      "cell_type": "code",
      "metadata": {
        "id": "HeM4HY9OBb2E"
      },
      "source": [],
      "execution_count": null,
      "outputs": []
    },
    {
      "cell_type": "code",
      "metadata": {
        "id": "XHDzQH85YdKE"
      },
      "source": [
        "document"
      ],
      "execution_count": null,
      "outputs": []
    },
    {
      "cell_type": "code",
      "metadata": {
        "id": "2Pk_PFDtGv0Q"
      },
      "source": [
        "# triples"
      ],
      "execution_count": null,
      "outputs": []
    },
    {
      "cell_type": "code",
      "metadata": {
        "id": "h5o7wTBuGGxB"
      },
      "source": [
        "import pandas as pd\n",
        "import csv\n",
        "import json\n",
        "with open(\"output.csv\",\"w\",newline=\"\") as f:  # python 2: open(\"output.csv\",\"wb\")\n",
        "    title = \"subject,relation,object\".split(\",\") # quick hack\n",
        "    cw = csv.DictWriter(f,title,delimiter=',', quotechar='|', quoting=csv.QUOTE_MINIMAL)\n",
        "    cw.writeheader()\n",
        "    cw.writerows(triples)\n"
      ],
      "execution_count": null,
      "outputs": []
    },
    {
      "cell_type": "code",
      "metadata": {
        "id": "sKQ6i7CPGG0f",
        "colab": {
          "base_uri": "https://localhost:8080/"
        },
        "outputId": "f5921181-6fa6-4401-edb2-2a9bd1fc97bb"
      },
      "source": [
        "!ls"
      ],
      "execution_count": null,
      "outputs": [
        {
          "output_type": "stream",
          "name": "stdout",
          "text": [
            "corenlp  corenlp_server-57073e27b8714bce.props\toutput.csv  sample_data\n"
          ]
        }
      ]
    },
    {
      "cell_type": "code",
      "metadata": {
        "id": "GyyingFJJBMl"
      },
      "source": [
        "# pd.read_csv('/content/output.csv')"
      ],
      "execution_count": null,
      "outputs": []
    },
    {
      "cell_type": "code",
      "metadata": {
        "id": "i-PYfsx1KEz7"
      },
      "source": [
        "j = triples\n",
        "\n",
        "with open('output.tsv', 'w') as output_file:\n",
        "    dw = csv.DictWriter(output_file, sorted(j[0].keys()), delimiter='\\t')\n",
        "    dw.writeheader()\n",
        "    dw.writerows(j)"
      ],
      "execution_count": null,
      "outputs": []
    },
    {
      "cell_type": "code",
      "metadata": {
        "id": "vmhVMIqXKXII",
        "colab": {
          "base_uri": "https://localhost:8080/",
          "height": 414
        },
        "outputId": "6028c3e6-3724-4088-963a-112f9dcbd627"
      },
      "source": [
        "d = pd.read_csv('output.tsv', sep='\\t')\n",
        "d"
      ],
      "execution_count": null,
      "outputs": [
        {
          "output_type": "execute_result",
          "data": {
            "text/html": [
              "<div>\n",
              "<style scoped>\n",
              "    .dataframe tbody tr th:only-of-type {\n",
              "        vertical-align: middle;\n",
              "    }\n",
              "\n",
              "    .dataframe tbody tr th {\n",
              "        vertical-align: top;\n",
              "    }\n",
              "\n",
              "    .dataframe thead th {\n",
              "        text-align: right;\n",
              "    }\n",
              "</style>\n",
              "<table border=\"1\" class=\"dataframe\">\n",
              "  <thead>\n",
              "    <tr style=\"text-align: right;\">\n",
              "      <th></th>\n",
              "      <th>object</th>\n",
              "      <th>relation</th>\n",
              "      <th>subject</th>\n",
              "    </tr>\n",
              "  </thead>\n",
              "  <tbody>\n",
              "    <tr>\n",
              "      <th>0</th>\n",
              "      <td>inflammatory skin diseases</td>\n",
              "      <td>treat</td>\n",
              "      <td>Korea red ginseng</td>\n",
              "    </tr>\n",
              "    <tr>\n",
              "      <th>1</th>\n",
              "      <td>skin diseases</td>\n",
              "      <td>treat</td>\n",
              "      <td>Korea red ginseng</td>\n",
              "    </tr>\n",
              "    <tr>\n",
              "      <th>2</th>\n",
              "      <td>has used</td>\n",
              "      <td>has</td>\n",
              "      <td>Korea red ginseng</td>\n",
              "    </tr>\n",
              "    <tr>\n",
              "      <th>3</th>\n",
              "      <td>has used in Asia</td>\n",
              "      <td>has</td>\n",
              "      <td>Korea red ginseng</td>\n",
              "    </tr>\n",
              "    <tr>\n",
              "      <th>4</th>\n",
              "      <td>treating atopic dermatitis</td>\n",
              "      <td>Recently is emerging for</td>\n",
              "      <td>Korea ginseng</td>\n",
              "    </tr>\n",
              "    <tr>\n",
              "      <th>...</th>\n",
              "      <td>...</td>\n",
              "      <td>...</td>\n",
              "      <td>...</td>\n",
              "    </tr>\n",
              "    <tr>\n",
              "      <th>193</th>\n",
              "      <td>Korea ginseng</td>\n",
              "      <td>means</td>\n",
              "      <td>combination</td>\n",
              "    </tr>\n",
              "    <tr>\n",
              "      <th>194</th>\n",
              "      <td>probiotics</td>\n",
              "      <td>combination</td>\n",
              "      <td>Korea ginseng</td>\n",
              "    </tr>\n",
              "    <tr>\n",
              "      <th>195</th>\n",
              "      <td>probiotics</td>\n",
              "      <td>combination</td>\n",
              "      <td>Korea red ginseng</td>\n",
              "    </tr>\n",
              "    <tr>\n",
              "      <th>196</th>\n",
              "      <td>Korea ginseng</td>\n",
              "      <td>means</td>\n",
              "      <td>KRG</td>\n",
              "    </tr>\n",
              "    <tr>\n",
              "      <th>197</th>\n",
              "      <td>Korea red ginseng</td>\n",
              "      <td>means</td>\n",
              "      <td>combination</td>\n",
              "    </tr>\n",
              "  </tbody>\n",
              "</table>\n",
              "<p>198 rows × 3 columns</p>\n",
              "</div>"
            ],
            "text/plain": [
              "                         object                  relation            subject\n",
              "0    inflammatory skin diseases                     treat  Korea red ginseng\n",
              "1                 skin diseases                     treat  Korea red ginseng\n",
              "2                      has used                       has  Korea red ginseng\n",
              "3              has used in Asia                       has  Korea red ginseng\n",
              "4    treating atopic dermatitis  Recently is emerging for      Korea ginseng\n",
              "..                          ...                       ...                ...\n",
              "193               Korea ginseng                     means        combination\n",
              "194                  probiotics               combination      Korea ginseng\n",
              "195                  probiotics               combination  Korea red ginseng\n",
              "196               Korea ginseng                     means                KRG\n",
              "197           Korea red ginseng                     means        combination\n",
              "\n",
              "[198 rows x 3 columns]"
            ]
          },
          "metadata": {},
          "execution_count": 13
        }
      ]
    },
    {
      "cell_type": "code",
      "metadata": {
        "id": "s194RnNg5z95"
      },
      "source": [
        "# # Annotate some text\n",
        "# text = \"Albert Einstein was a German-born theoretical physicist. He developed the theory of relativity.\"\n",
        "# document = client.annotate(text)\n",
        "# print(type(document))"
      ],
      "execution_count": null,
      "outputs": []
    },
    {
      "cell_type": "markdown",
      "metadata": {
        "id": "semmA3e0TcM1"
      },
      "source": [
        "## 3. Accessing Annotations\n",
        "\n",
        "Annotations can be accessed from the returned `Document` object.\n",
        "\n",
        "A `Document` contains a list of `Sentence`s, which contain a list of `Token`s. Here let's first explore the annotations stored in all tokens."
      ]
    },
    {
      "cell_type": "code",
      "metadata": {
        "id": "lIO4B5d6Rk4I"
      },
      "source": [
        "# # Iterate over all tokens in all sentences, and print out the word, lemma, pos and ner tags\n",
        "# print(\"{:12s}\\t{:12s}\\t{:6s}\\t{}\".format(\"Word\", \"Lemma\", \"POS\", \"NER\"))\n",
        "\n",
        "# for i, sent in enumerate(document.sentence):\n",
        "#     print(\"[Sentence {}]\".format(i+1))\n",
        "#     for t in sent.token:\n",
        "#         print(\"{:12s}\\t{:12s}\\t{:6s}\\t{}\".format(t.word, t.lemma, t.pos, t.ner))\n",
        "#     print(\"\")"
      ],
      "execution_count": null,
      "outputs": []
    },
    {
      "cell_type": "markdown",
      "metadata": {
        "id": "msrJfvu8VV9m"
      },
      "source": [
        "Alternatively, you can also browse the NER results by iterating over entity mentions over the sentences. For example:"
      ]
    },
    {
      "cell_type": "code",
      "metadata": {
        "id": "ezEjc9LeV2Xs"
      },
      "source": [
        "# # Iterate over all detected entity mentions\n",
        "# print(\"{:30s}\\t{}\".format(\"Mention\", \"Type\"))\n",
        "\n",
        "# for sent in document.sentence:\n",
        "#     for m in sent.mentions:\n",
        "#         print(\"{:30s}\\t{}\".format(m.entityMentionText, m.entityType))"
      ],
      "execution_count": null,
      "outputs": []
    },
    {
      "cell_type": "markdown",
      "metadata": {
        "id": "ueGzBZ3hWzkN"
      },
      "source": [
        "To print all annotations a sentence, token or mention has, you can simply print the corresponding obejct."
      ]
    },
    {
      "cell_type": "code",
      "metadata": {
        "id": "4_S8o2BHXIed"
      },
      "source": [
        "# # Print annotations of a token\n",
        "# print(document.sentence[0].token[0])\n",
        "\n",
        "# # Print annotations of a mention\n",
        "# print(document.sentence[0].mentions[0])"
      ],
      "execution_count": null,
      "outputs": []
    },
    {
      "cell_type": "markdown",
      "metadata": {
        "id": "Qp66wjZ10xia"
      },
      "source": [
        "**Note**: Since the Stanza CoreNLP client interface simply ports the CoreNLP annotation results to native Python objects, for a comprehensive lists of available annotators and how their annotation results can be accessed, you will need to visit the [Stanford CoreNLP website](https://stanfordnlp.github.io/CoreNLP/)."
      ]
    },
    {
      "cell_type": "markdown",
      "metadata": {
        "id": "IPqzMK90X0w3"
      },
      "source": [
        "## 4. Shutting Down the CoreNLP Server\n",
        "\n",
        "To shut down the background CoreNLP server process, simply call the `stop` function of the client. Note that once a server is shutdown, you'll have to restart the server with the `start()` function before any annotation is requested."
      ]
    },
    {
      "cell_type": "code",
      "metadata": {
        "id": "xrJq8lZ3Nw7b"
      },
      "source": [
        "# Shut down the background CoreNLP server\n",
        "client.stop()\n",
        "\n",
        "time.sleep(10)\n",
        "!ps -o pid,cmd | grep java"
      ],
      "execution_count": null,
      "outputs": []
    },
    {
      "cell_type": "markdown",
      "metadata": {
        "id": "23Vwa_ifYfF7"
      },
      "source": [
        "### More Information\n",
        "\n",
        "For more information on how to use the `CoreNLPClient`, please go to the [CoreNLPClient documentation page](https://stanfordnlp.github.io/stanza/corenlp_client.html)."
      ]
    },
    {
      "cell_type": "markdown",
      "metadata": {
        "id": "YUrVT6kA_Bzx"
      },
      "source": [
        "## 5. Simplifying Client Usage with the Python `with` statement\n",
        "\n",
        "In the above demo, we explicitly called the `client.start()` and `client.stop()` functions to start and stop a client-server connection. However, doing this in practice is usually suboptimal, since you may forget to call the `stop()` function at the end, resulting in an unused server process occupying your machine memory.\n",
        "\n",
        "To solve is, a simple solution is to use the client interface with the [Python `with` statement](https://docs.python.org/3/reference/compound_stmts.html#the-with-statement). The `with` statement provides an elegant way to automatically start and stop the server process in your Python program, without you needing to worry about this. The following code snippet demonstrates how to establish a client, annotate an example text and then stop the server with a simple `with` statement. Note that we **always recommend** you to use the `with` statement when working with the Stanza CoreNLP client interface."
      ]
    },
    {
      "cell_type": "code",
      "metadata": {
        "id": "H0ct2-R4AvJh"
      },
      "source": [
        "# print(\"Starting a server with the Python \\\"with\\\" statement...\")\n",
        "# with CoreNLPClient(annotators=['tokenize','ssplit', 'pos', 'lemma', 'ner'], \n",
        "#                    memory='4G', endpoint='http://localhost:9001', be_quiet=True) as client:\n",
        "#     text = \"Albert Einstein was a German-born theoretical physicist.\"\n",
        "#     document = client.annotate(text)\n",
        "\n",
        "#     print(\"{:30s}\\t{}\".format(\"Mention\", \"Type\"))\n",
        "#     for sent in document.sentence:\n",
        "#         for m in sent.mentions:\n",
        "#             print(\"{:30s}\\t{}\".format(m.entityMentionText, m.entityType))\n",
        "\n",
        "# print(\"\\nThe server should be stopped upon exit from the \\\"with\\\" statement.\")"
      ],
      "execution_count": null,
      "outputs": []
    },
    {
      "cell_type": "markdown",
      "metadata": {
        "id": "W435Lwc4YqKb"
      },
      "source": [
        "## 6. Other Resources\n",
        "\n",
        "- [Stanza Homepage](https://stanfordnlp.github.io/stanza/)\n",
        "- [FAQs](https://stanfordnlp.github.io/stanza/faq.html)\n",
        "- [GitHub Repo](https://github.com/stanfordnlp/stanza)\n",
        "- [Reporting Issues](https://github.com/stanfordnlp/stanza/issues)\n"
      ]
    }
  ]
}